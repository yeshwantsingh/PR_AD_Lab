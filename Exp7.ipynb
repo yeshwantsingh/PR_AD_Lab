{
 "cells": [
  {
   "cell_type": "code",
   "execution_count": 1,
   "id": "c3c826fc-9af8-4857-9904-3b8aadba7c4c",
   "metadata": {
    "tags": []
   },
   "outputs": [],
   "source": [
    "import sklearn\n",
    "from sklearn import datasets\n",
    "from sklearn import neighbors\n",
    "from matplotlib import pyplot as plt\n",
    "from sklearn.model_selection import train_test_split\n",
    "import numpy as np"
   ]
  },
  {
   "cell_type": "code",
   "execution_count": 2,
   "id": "b54da667-48c3-4a7f-8bfa-dfc34c293738",
   "metadata": {
    "tags": []
   },
   "outputs": [],
   "source": [
    "data, target = datasets.load_iris(as_frame=True, return_X_y=True)"
   ]
  },
  {
   "cell_type": "code",
   "execution_count": 3,
   "id": "3d06a26e-75af-4630-b9d8-86bfe33b2506",
   "metadata": {
    "tags": []
   },
   "outputs": [],
   "source": [
    "X, y = datasets.load_iris(return_X_y=True)"
   ]
  },
  {
   "cell_type": "code",
   "execution_count": 4,
   "id": "1949b2bc-be07-4c9e-badb-dc9414fc521b",
   "metadata": {
    "tags": []
   },
   "outputs": [
    {
     "data": {
      "text/html": [
       "<div>\n",
       "<style scoped>\n",
       "    .dataframe tbody tr th:only-of-type {\n",
       "        vertical-align: middle;\n",
       "    }\n",
       "\n",
       "    .dataframe tbody tr th {\n",
       "        vertical-align: top;\n",
       "    }\n",
       "\n",
       "    .dataframe thead th {\n",
       "        text-align: right;\n",
       "    }\n",
       "</style>\n",
       "<table border=\"1\" class=\"dataframe\">\n",
       "  <thead>\n",
       "    <tr style=\"text-align: right;\">\n",
       "      <th></th>\n",
       "      <th>sepal length (cm)</th>\n",
       "      <th>sepal width (cm)</th>\n",
       "      <th>petal length (cm)</th>\n",
       "      <th>petal width (cm)</th>\n",
       "    </tr>\n",
       "  </thead>\n",
       "  <tbody>\n",
       "    <tr>\n",
       "      <th>0</th>\n",
       "      <td>5.1</td>\n",
       "      <td>3.5</td>\n",
       "      <td>1.4</td>\n",
       "      <td>0.2</td>\n",
       "    </tr>\n",
       "    <tr>\n",
       "      <th>1</th>\n",
       "      <td>4.9</td>\n",
       "      <td>3.0</td>\n",
       "      <td>1.4</td>\n",
       "      <td>0.2</td>\n",
       "    </tr>\n",
       "    <tr>\n",
       "      <th>2</th>\n",
       "      <td>4.7</td>\n",
       "      <td>3.2</td>\n",
       "      <td>1.3</td>\n",
       "      <td>0.2</td>\n",
       "    </tr>\n",
       "    <tr>\n",
       "      <th>3</th>\n",
       "      <td>4.6</td>\n",
       "      <td>3.1</td>\n",
       "      <td>1.5</td>\n",
       "      <td>0.2</td>\n",
       "    </tr>\n",
       "    <tr>\n",
       "      <th>4</th>\n",
       "      <td>5.0</td>\n",
       "      <td>3.6</td>\n",
       "      <td>1.4</td>\n",
       "      <td>0.2</td>\n",
       "    </tr>\n",
       "  </tbody>\n",
       "</table>\n",
       "</div>"
      ],
      "text/plain": [
       "   sepal length (cm)  sepal width (cm)  petal length (cm)  petal width (cm)\n",
       "0                5.1               3.5                1.4               0.2\n",
       "1                4.9               3.0                1.4               0.2\n",
       "2                4.7               3.2                1.3               0.2\n",
       "3                4.6               3.1                1.5               0.2\n",
       "4                5.0               3.6                1.4               0.2"
      ]
     },
     "execution_count": 4,
     "metadata": {},
     "output_type": "execute_result"
    }
   ],
   "source": [
    "data.head()"
   ]
  },
  {
   "cell_type": "code",
   "execution_count": 5,
   "id": "de75b094-7bbc-427e-a2d4-c5e8324f1b4b",
   "metadata": {
    "tags": []
   },
   "outputs": [],
   "source": [
    "train_x, test_x, train_y, test_y = train_test_split(X, y, test_size=0.1, random_state=42)"
   ]
  },
  {
   "cell_type": "code",
   "execution_count": 9,
   "id": "97dedaf0-e715-4f42-b334-74fc7f20c332",
   "metadata": {
    "tags": []
   },
   "outputs": [],
   "source": [
    "clf = neighbors.LocalOutlierFactor(n_neighbors=3)"
   ]
  },
  {
   "cell_type": "code",
   "execution_count": 10,
   "id": "78f94d67-9cb1-45fa-a6a7-d3065db0a0c1",
   "metadata": {
    "tags": []
   },
   "outputs": [
    {
     "data": {
      "text/plain": [
       "array([ 1,  1,  1,  1,  1,  1,  1,  1,  1,  1,  1,  1,  1,  1,  1,  1,  1,\n",
       "        1,  1,  1, -1,  1, -1,  1,  1,  1,  1,  1,  1,  1,  1, -1,  1,  1,\n",
       "        1,  1,  1,  1,  1,  1,  1, -1,  1,  1,  1,  1,  1,  1,  1,  1,  1,\n",
       "        1,  1,  1,  1,  1,  1,  1,  1, -1,  1,  1, -1,  1, -1,  1,  1,  1,\n",
       "        1,  1,  1,  1,  1,  1,  1,  1,  1,  1,  1,  1,  1,  1,  1,  1,  1,\n",
       "        1,  1,  1,  1,  1,  1,  1,  1,  1,  1,  1,  1,  1,  1,  1,  1,  1,\n",
       "        1,  1,  1,  1, -1,  1, -1, -1,  1,  1,  1,  1, -1,  1,  1,  1,  1,\n",
       "        1,  1,  1,  1,  1,  1,  1,  1,  1,  1,  1,  1,  1,  1,  1, -1,  1,\n",
       "        1,  1,  1,  1,  1,  1,  1,  1,  1,  1,  1,  1,  1,  1])"
      ]
     },
     "execution_count": 10,
     "metadata": {},
     "output_type": "execute_result"
    }
   ],
   "source": [
    "clf.fit_predict(X, y)"
   ]
  },
  {
   "cell_type": "code",
   "execution_count": 11,
   "id": "84598c6d-c06c-40c4-88a2-8a036454e8af",
   "metadata": {
    "tags": []
   },
   "outputs": [
    {
     "data": {
      "text/plain": [
       "array([-0.97064737, -1.0539733 , -1.03196474, -1.02814603, -1.07431962,\n",
       "       -1.28828984, -1.03505147, -1.03192955, -1.09962679, -0.9357924 ,\n",
       "       -1.35024226, -1.07643341, -0.98531556, -1.05920103, -1.14039452,\n",
       "       -1.19320096, -1.16371658, -0.92702682, -1.34467149, -0.98538   ,\n",
       "       -1.8427001 , -1.16878464, -1.98779263, -1.33472552, -1.42516157,\n",
       "       -1.18303361, -1.23271638, -0.93333333, -0.93333333, -1.06896073,\n",
       "       -0.99951916, -1.8427001 , -1.27309317, -1.13035984, -0.9357924 ,\n",
       "       -1.30377369, -1.44130391, -1.29739109, -1.14366726, -0.95235568,\n",
       "       -1.00914316, -2.84201851, -0.97305995, -1.08126562, -1.36572843,\n",
       "       -1.0539733 , -0.98538   , -1.07534169, -1.25053744, -1.15771547,\n",
       "       -1.09377701, -1.06354898, -1.11926803, -0.99882658, -1.02179655,\n",
       "       -1.23490631, -1.11534739, -1.09022288, -0.99165532, -1.59355655,\n",
       "       -1.06250564, -1.35845087, -1.72942931, -1.09180817, -1.63403643,\n",
       "       -0.92940925, -1.22774422, -1.11678932, -1.16321857, -1.01372003,\n",
       "       -1.02781627, -1.14672641, -1.04505424, -0.97052871, -0.96478841,\n",
       "       -1.05631084, -0.99560688, -1.02026118, -0.91355612, -1.26072288,\n",
       "       -0.97282922, -0.98843437, -1.08665529, -1.06371886, -1.35452262,\n",
       "       -1.21694817, -0.95524012, -1.20668718, -0.96583601, -0.94732018,\n",
       "       -1.16551364, -1.01481257, -1.11678932, -1.14699717, -1.1479336 ,\n",
       "       -0.96583601, -1.06786835, -1.082556  , -0.92015195, -0.91501492,\n",
       "       -1.25358151, -1.01067277, -1.10616752, -0.98896362, -1.04767309,\n",
       "       -1.04903957, -1.89510661, -0.93277435, -1.62447619, -2.01910416,\n",
       "       -0.96874941, -0.99102163, -1.00649406, -0.9894954 , -1.54944003,\n",
       "       -1.10266265, -0.97714408, -1.23979255, -1.10353806, -1.19251504,\n",
       "       -1.05172268, -0.9894954 , -1.18338451, -1.05999491, -0.9897238 ,\n",
       "       -1.05779607, -0.97695103, -0.96724781, -1.01141429, -1.06104348,\n",
       "       -1.05542849, -1.34482681, -1.01141429, -1.05337463, -1.51679776,\n",
       "       -1.19149877, -1.05319263, -0.97714408, -1.00467038, -1.03829167,\n",
       "       -0.95726846, -1.03829167, -1.01067277, -0.99469003, -0.96198699,\n",
       "       -1.00896385, -1.09999079, -1.03552037, -1.03379106, -0.99740515])"
      ]
     },
     "execution_count": 11,
     "metadata": {},
     "output_type": "execute_result"
    }
   ],
   "source": [
    "clf.negative_outlier_factor_"
   ]
  },
  {
   "cell_type": "code",
   "execution_count": null,
   "id": "3136a569-0ee0-4591-86bf-071636e695fc",
   "metadata": {},
   "outputs": [],
   "source": []
  }
 ],
 "metadata": {
  "kernelspec": {
   "display_name": "Python 3 (ipykernel)",
   "language": "python",
   "name": "python3"
  },
  "language_info": {
   "codemirror_mode": {
    "name": "ipython",
    "version": 3
   },
   "file_extension": ".py",
   "mimetype": "text/x-python",
   "name": "python",
   "nbconvert_exporter": "python",
   "pygments_lexer": "ipython3",
   "version": "3.9.13"
  }
 },
 "nbformat": 4,
 "nbformat_minor": 5
}
